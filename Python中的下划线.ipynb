{
 "cells": [
  {
   "cell_type": "markdown",
   "metadata": {},
   "source": [
    "## 1.引言"
   ]
  },
  {
   "cell_type": "markdown",
   "metadata": {},
   "source": [
    "（1）Python 用下划线作变量前缀和后缀通常表示**特殊的变量或者方法**，下划线对解释器有特殊的意义，而且是内建标识符所使用的符号，所以应避免用下\n",
    "\n",
    "划线作为变量名的起始位置；\n",
    "\n",
    "（2）一般变量名_object被看作是“私有的”，在模块或类外不可以使用，不能用 from module import * 导入；\n",
    "\n",
    "（3）python有private的描述，不存在protected的概念，只有public和private，然而python中的private和C++、Java中的有些区别，它并不是真正的\n",
    "\n",
    "private。Python中的private其实是**name mangling（名称改编）**，目的就是以防子类意外重写基类的方法或者属性，在前面加上“单下划线”+ 类名\n",
    "\n",
    "(eg：_Class__object)机制就可以访问private了；\n",
    "\n",
    "（4）\"单下划线\" 开始的成员变量叫做**保护变量**，意思是只有类对象和子类对象自己能访问到这些变量；\n",
    "\n",
    "\"双下划线\" 开始的是**私有成员**，意思是只有类对象自己能访问，连子类对象也不能访问到这个数据；\n",
    "\n",
    "（5）以单下划线开头（_foo）的代表不能直接访问的类属性，需通过类提供的接口进行访问，不能用“from xxx import *”而导入；"
   ]
  },
  {
   "cell_type": "markdown",
   "metadata": {},
   "source": [
    "### 例子："
   ]
  },
  {
   "cell_type": "markdown",
   "metadata": {},
   "source": [
    "**创建Foo类：**包含三个方法"
   ]
  },
  {
   "cell_type": "code",
   "execution_count": 29,
   "metadata": {
    "collapsed": true
   },
   "outputs": [],
   "source": [
    "class Foo():\n",
    "    \n",
    "    def __init__(self):\n",
    "        pass\n",
    "    \n",
    "    def public_method(self):\n",
    "        print('This is public method.')\n",
    "        \n",
    "    def __fullprivate_method(self):\n",
    "        print('This is double underscore leading method.')\n",
    "        \n",
    "    def _halfprivate_method(self):\n",
    "        print('This is one underscore leading method.')"
   ]
  },
  {
   "cell_type": "markdown",
   "metadata": {},
   "source": [
    "**类Foo的实例化**"
   ]
  },
  {
   "cell_type": "code",
   "execution_count": 30,
   "metadata": {
    "collapsed": false
   },
   "outputs": [],
   "source": [
    "f = Foo()"
   ]
  },
  {
   "cell_type": "code",
   "execution_count": 31,
   "metadata": {
    "collapsed": false
   },
   "outputs": [
    {
     "name": "stdout",
     "output_type": "stream",
     "text": [
      "This is public method.\n"
     ]
    }
   ],
   "source": [
    "f.public_method()"
   ]
  },
  {
   "cell_type": "code",
   "execution_count": 32,
   "metadata": {
    "collapsed": false,
    "scrolled": true
   },
   "outputs": [
    {
     "ename": "AttributeError",
     "evalue": "'Foo' object has no attribute '__fullprivate_method'",
     "output_type": "error",
     "traceback": [
      "\u001b[1;31m---------------------------------------------------------------------------\u001b[0m",
      "\u001b[1;31mAttributeError\u001b[0m                            Traceback (most recent call last)",
      "\u001b[1;32m<ipython-input-32-020e13f8267a>\u001b[0m in \u001b[0;36m<module>\u001b[1;34m()\u001b[0m\n\u001b[1;32m----> 1\u001b[1;33m \u001b[0mf\u001b[0m\u001b[1;33m.\u001b[0m\u001b[0m__fullprivate_method\u001b[0m\u001b[1;33m(\u001b[0m\u001b[1;33m)\u001b[0m\u001b[1;33m\u001b[0m\u001b[0m\n\u001b[0m",
      "\u001b[1;31mAttributeError\u001b[0m: 'Foo' object has no attribute '__fullprivate_method'"
     ]
    }
   ],
   "source": [
    "f.__fullprivate_method()"
   ]
  },
  {
   "cell_type": "markdown",
   "metadata": {},
   "source": [
    "**f._halfprivate_method()**可以直接访问，根据python的约定，应该将其视作private，而良好的编程习惯是不要在外部使用它们。\n",
    "\n",
    "根据Python docs的说明，_object和__object的作用域限制在本模块内。"
   ]
  },
  {
   "cell_type": "code",
   "execution_count": 33,
   "metadata": {
    "collapsed": false
   },
   "outputs": [
    {
     "name": "stdout",
     "output_type": "stream",
     "text": [
      "This is one underscore leading method.\n"
     ]
    }
   ],
   "source": [
    "f._halfprivate_method()"
   ]
  },
  {
   "cell_type": "markdown",
   "metadata": {},
   "source": [
    "## 2.单个下划线"
   ]
  },
  {
   "cell_type": "markdown",
   "metadata": {},
   "source": [
    "主要有三种情况："
   ]
  },
  {
   "cell_type": "markdown",
   "metadata": {},
   "source": [
    "### 2.1.用在解释器中"
   ]
  },
  {
   "cell_type": "markdown",
   "metadata": {},
   "source": [
    "用_符号返回交互解释器中最后一次执行语句的结果。"
   ]
  },
  {
   "cell_type": "code",
   "execution_count": 36,
   "metadata": {
    "collapsed": false
   },
   "outputs": [
    {
     "data": {
      "text/plain": [
       "<bound method Foo.public_method of <__main__.Foo object at 0x0000000004316F28>>"
      ]
     },
     "execution_count": 36,
     "metadata": {},
     "output_type": "execute_result"
    }
   ],
   "source": [
    "_"
   ]
  },
  {
   "cell_type": "code",
   "execution_count": 37,
   "metadata": {
    "collapsed": false
   },
   "outputs": [
    {
     "data": {
      "text/plain": [
       "'I am learning Python.'"
      ]
     },
     "execution_count": 37,
     "metadata": {},
     "output_type": "execute_result"
    }
   ],
   "source": [
    "'I am learning Python.'"
   ]
  },
  {
   "cell_type": "code",
   "execution_count": 38,
   "metadata": {
    "collapsed": false
   },
   "outputs": [
    {
     "data": {
      "text/plain": [
       "'I am learning Python.'"
      ]
     },
     "execution_count": 38,
     "metadata": {},
     "output_type": "execute_result"
    }
   ],
   "source": [
    "_"
   ]
  },
  {
   "cell_type": "markdown",
   "metadata": {},
   "source": [
    "### 2.2.作为名称使用"
   ]
  },
  {
   "cell_type": "markdown",
   "metadata": {},
   "source": [
    "_用作被丢弃的名称。按照惯例，这样做可以让阅读你代码的人知道，这是个不会被使用的特定名称。"
   ]
  },
  {
   "cell_type": "code",
   "execution_count": 41,
   "metadata": {
    "collapsed": false
   },
   "outputs": [
    {
     "name": "stdout",
     "output_type": "stream",
     "text": [
      "0\n",
      "1\n",
      "2\n",
      "3\n"
     ]
    }
   ],
   "source": [
    "n = 4\n",
    "for _ in range(n):\n",
    "    print(_)"
   ]
  },
  {
   "cell_type": "markdown",
   "metadata": {},
   "source": [
    "### 2.3. i18n"
   ]
  },
  {
   "cell_type": "markdown",
   "metadata": {},
   "source": [
    "_ being used as a function.\n",
    "\n",
    "In that case, it is often the name used for the function that does internationalisation and localisation string translation lookups.\n",
    "\n",
    "即便于进行多国语言间的切换。\n",
    "\n",
    "Python的国际化支持：http://blog.csdn.net/taiyang1987912/article/details/48983187"
   ]
  },
  {
   "cell_type": "code",
   "execution_count": 1,
   "metadata": {
    "collapsed": false
   },
   "outputs": [],
   "source": [
    "from django.utils.translation import ugettext as _\n",
    "from django.http import HttpResponse\n",
    "\n",
    "def my_view(request):\n",
    "    output = _(\"Welcome to my site.\")\n",
    "    return HttpResponse(output)"
   ]
  },
  {
   "cell_type": "markdown",
   "metadata": {},
   "source": [
    "The second and third purposes can conflict, so one should avoid using _ as a throw-away name in any code block that also uses it for i18n lookup and translation."
   ]
  },
  {
   "cell_type": "markdown",
   "metadata": {},
   "source": [
    "## 3.参考文献"
   ]
  },
  {
   "cell_type": "markdown",
   "metadata": {},
   "source": [
    "[1]https://shahriar.svbtle.com/underscores-in-python\n",
    "\n",
    "[2]https://segmentfault.com/a/1190000002611411"
   ]
  },
  {
   "cell_type": "code",
   "execution_count": null,
   "metadata": {
    "collapsed": true
   },
   "outputs": [],
   "source": []
  }
 ],
 "metadata": {
  "kernelspec": {
   "display_name": "Python 3",
   "language": "python",
   "name": "python3"
  },
  "language_info": {
   "codemirror_mode": {
    "name": "ipython",
    "version": 3
   },
   "file_extension": ".py",
   "mimetype": "text/x-python",
   "name": "python",
   "nbconvert_exporter": "python",
   "pygments_lexer": "ipython3",
   "version": "3.5.1"
  }
 },
 "nbformat": 4,
 "nbformat_minor": 0
}
